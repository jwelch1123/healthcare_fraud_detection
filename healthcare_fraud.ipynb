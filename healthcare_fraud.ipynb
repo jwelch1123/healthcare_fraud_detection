{
 "cells": [
  {
   "cell_type": "markdown",
   "id": "aeb94b4b-8112-4bf6-898b-4e0d7415e39f",
   "metadata": {},
   "source": [
    "<a id='top'></a> \n",
    "# Healthcare Provider Fraud Detection "
   ]
  },
  {
   "cell_type": "markdown",
   "id": "0653659a-8070-418d-ac18-e0ca35eb85ce",
   "metadata": {},
   "source": [
    "#### Table of Contents\n",
    "- [Background](#background)\n",
    "- [Data Import](#import)\n",
    "- [Exploratory Analysis](#eda)\n",
    "- [Data Cleaning](#clean)\n",
    "- [Feature Engineering](#engineer)\n",
    "\n",
    "\n",
    "\n",
    "## Background <a id='background'></a>\n",
    "\n",
    "\n"
   ]
  },
  {
   "cell_type": "markdown",
   "id": "36c99ea3-8f62-49cf-82b0-fb6ba778d96b",
   "metadata": {},
   "source": [
    "## Data Import <a id='import'></a>\n",
    "\n",
    "[Back To Top](#top)"
   ]
  },
  {
   "cell_type": "code",
   "execution_count": null,
   "id": "4c5a3d24-7fed-426c-89ee-1d09e75a3786",
   "metadata": {},
   "outputs": [],
   "source": []
  },
  {
   "cell_type": "markdown",
   "id": "71664f20-81fe-4f02-b0f9-349cf8f5ce01",
   "metadata": {},
   "source": [
    "## Exploratory Analysis <a id='eda'></a>\n",
    "\n",
    "[Back To Top](#top)"
   ]
  },
  {
   "cell_type": "code",
   "execution_count": null,
   "id": "d38f25aa-621e-4d3a-b1dc-65a5038e5560",
   "metadata": {},
   "outputs": [],
   "source": []
  },
  {
   "cell_type": "markdown",
   "id": "1b1087f4-9817-4e63-8edb-e36ecc58c5f9",
   "metadata": {},
   "source": [
    "## Data Cleaning <a id='clean'></a>\n",
    "\n",
    "[Back To Top](#top)"
   ]
  },
  {
   "cell_type": "code",
   "execution_count": null,
   "id": "b48c2112-f9a1-4cf1-af5b-a4d8bb0e760e",
   "metadata": {},
   "outputs": [],
   "source": []
  },
  {
   "cell_type": "markdown",
   "id": "ed7ac94a-31be-4ae4-9078-8573f3148c37",
   "metadata": {},
   "source": [
    "## Feature Engineering <a id='engineer'></a>\n",
    "\n",
    "[Back To Top](#top)"
   ]
  },
  {
   "cell_type": "code",
   "execution_count": null,
   "id": "c7383f48-87a1-4ae1-b5c6-0ceae57128fd",
   "metadata": {},
   "outputs": [],
   "source": []
  }
 ],
 "metadata": {
  "kernelspec": {
   "display_name": "Python 3",
   "language": "python",
   "name": "python3"
  },
  "language_info": {
   "codemirror_mode": {
    "name": "ipython",
    "version": 3
   },
   "file_extension": ".py",
   "mimetype": "text/x-python",
   "name": "python",
   "nbconvert_exporter": "python",
   "pygments_lexer": "ipython3",
   "version": "3.8.8"
  }
 },
 "nbformat": 4,
 "nbformat_minor": 5
}
